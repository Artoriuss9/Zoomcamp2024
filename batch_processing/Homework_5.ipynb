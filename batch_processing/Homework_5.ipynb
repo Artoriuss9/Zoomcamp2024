{
 "cells": [
  {
   "cell_type": "code",
   "execution_count": 1,
   "id": "3b48d904-c0a7-4d1f-b7ab-353b04bb6110",
   "metadata": {},
   "outputs": [],
   "source": [
    "import pyspark\n",
    "from pyspark.sql import SparkSession"
   ]
  },
  {
   "cell_type": "code",
   "execution_count": 2,
   "id": "9b407255-2cd7-416c-a217-36665c415937",
   "metadata": {},
   "outputs": [],
   "source": [
    "#Q1"
   ]
  },
  {
   "cell_type": "code",
   "execution_count": 3,
   "id": "82004b54-63f6-4379-b7b9-1e872853bca8",
   "metadata": {},
   "outputs": [
    {
     "data": {
      "text/plain": [
       "'3.3.2'"
      ]
     },
     "execution_count": 3,
     "metadata": {},
     "output_type": "execute_result"
    }
   ],
   "source": [
    "pyspark.__version__"
   ]
  },
  {
   "cell_type": "code",
   "execution_count": 4,
   "id": "0ed6e624-b53b-4175-8021-31ed1792703d",
   "metadata": {},
   "outputs": [],
   "source": [
    "#Q2"
   ]
  },
  {
   "cell_type": "code",
   "execution_count": 5,
   "id": "2e4c76e7-1ddd-485d-af0c-a889b1263205",
   "metadata": {},
   "outputs": [
    {
     "name": "stderr",
     "output_type": "stream",
     "text": [
      "Setting default log level to \"WARN\".\n",
      "To adjust logging level use sc.setLogLevel(newLevel). For SparkR, use setLogLevel(newLevel).\n"
     ]
    },
    {
     "name": "stdout",
     "output_type": "stream",
     "text": [
      "24/03/03 15:09:56 WARN NativeCodeLoader: Unable to load native-hadoop library for your platform... using builtin-java classes where applicable\n"
     ]
    }
   ],
   "source": [
    "spark = SparkSession.builder \\\n",
    "    .master(\"local[*]\") \\\n",
    "    .appName('test') \\\n",
    "    .getOrCreate()"
   ]
  },
  {
   "cell_type": "code",
   "execution_count": 6,
   "id": "cf88fdde-b408-4bdc-b315-4db0d65963fe",
   "metadata": {},
   "outputs": [
    {
     "name": "stderr",
     "output_type": "stream",
     "text": [
      "                                                                                \r"
     ]
    }
   ],
   "source": [
    "df_fhv = spark.read \\\n",
    "    .option(\"header\", \"true\") \\\n",
    "    .csv('/home/artoriuss9/Homework_5/fhv_tripdata_2019-10.csv.gz')"
   ]
  },
  {
   "cell_type": "code",
   "execution_count": 7,
   "id": "9fb6a26f-664f-4e46-bd2e-b2c2c66aa0ef",
   "metadata": {},
   "outputs": [
    {
     "name": "stdout",
     "output_type": "stream",
     "text": [
      "root\n",
      " |-- dispatching_base_num: string (nullable = true)\n",
      " |-- pickup_datetime: string (nullable = true)\n",
      " |-- dropOff_datetime: string (nullable = true)\n",
      " |-- PUlocationID: string (nullable = true)\n",
      " |-- DOlocationID: string (nullable = true)\n",
      " |-- SR_Flag: string (nullable = true)\n",
      " |-- Affiliated_base_number: string (nullable = true)\n",
      "\n"
     ]
    }
   ],
   "source": [
    "df_fhv.printSchema()"
   ]
  },
  {
   "cell_type": "code",
   "execution_count": 8,
   "id": "2c8c7ef3-c3a7-4aac-bfc5-aa9701551b87",
   "metadata": {},
   "outputs": [
    {
     "name": "stdout",
     "output_type": "stream",
     "text": [
      "+--------------------+-------------------+-------------------+------------+------------+-------+----------------------+\n",
      "|dispatching_base_num|    pickup_datetime|   dropOff_datetime|PUlocationID|DOlocationID|SR_Flag|Affiliated_base_number|\n",
      "+--------------------+-------------------+-------------------+------------+------------+-------+----------------------+\n",
      "|              B00009|2019-10-01 00:23:00|2019-10-01 00:35:00|         264|         264|   null|                B00009|\n",
      "|              B00013|2019-10-01 00:11:29|2019-10-01 00:13:22|         264|         264|   null|                B00013|\n",
      "|              B00014|2019-10-01 00:11:43|2019-10-01 00:37:20|         264|         264|   null|                B00014|\n",
      "|              B00014|2019-10-01 00:56:29|2019-10-01 00:57:47|         264|         264|   null|                B00014|\n",
      "|              B00014|2019-10-01 00:23:09|2019-10-01 00:28:27|         264|         264|   null|                B00014|\n",
      "+--------------------+-------------------+-------------------+------------+------------+-------+----------------------+\n",
      "only showing top 5 rows\n",
      "\n"
     ]
    }
   ],
   "source": [
    "df_fhv.show(5)"
   ]
  },
  {
   "cell_type": "code",
   "execution_count": 9,
   "id": "8e4d8309-ab9f-495b-9420-5d251968533a",
   "metadata": {},
   "outputs": [],
   "source": [
    "from pyspark.sql import types\n",
    "\n",
    "schema = types.StructType([\n",
    "\ttypes.StructField('dispatching_base_num', types.StringType(), True), \n",
    "\ttypes.StructField('pickup_datetime', types.TimestampType(), True), \n",
    "\ttypes.StructField('dropOff_datetime', types.TimestampType(), True), \n",
    "\ttypes.StructField('PUlocationID', types.IntegerType(), True), \n",
    "\ttypes.StructField('DOlocationID', types.IntegerType(), True), \n",
    "\ttypes.StructField('SR_Flag', types.StringType(), True)\n",
    "])"
   ]
  },
  {
   "cell_type": "code",
   "execution_count": 10,
   "id": "ac8825b1-84ed-4945-8695-d90600d67ce4",
   "metadata": {},
   "outputs": [],
   "source": [
    "df_fhv = spark.read \\\n",
    "    .option(\"header\", \"true\") \\\n",
    "    .schema(schema) \\\n",
    "    .csv('/home/artoriuss9/Homework_5/fhv_tripdata_2019-10.csv.gz')"
   ]
  },
  {
   "cell_type": "code",
   "execution_count": 11,
   "id": "a49aab1c-d8c4-4fd9-a9d3-67b17a58575a",
   "metadata": {},
   "outputs": [
    {
     "name": "stdout",
     "output_type": "stream",
     "text": [
      "root\n",
      " |-- dispatching_base_num: string (nullable = true)\n",
      " |-- pickup_datetime: timestamp (nullable = true)\n",
      " |-- dropOff_datetime: timestamp (nullable = true)\n",
      " |-- PUlocationID: integer (nullable = true)\n",
      " |-- DOlocationID: integer (nullable = true)\n",
      " |-- SR_Flag: string (nullable = true)\n",
      "\n"
     ]
    }
   ],
   "source": [
    "df_fhv.printSchema()"
   ]
  },
  {
   "cell_type": "code",
   "execution_count": 12,
   "id": "0768c1c2-85e4-43b4-92e8-160df16b9b69",
   "metadata": {},
   "outputs": [
    {
     "data": {
      "text/plain": [
       "DataFrame[dispatching_base_num: string, pickup_datetime: timestamp, dropOff_datetime: timestamp, PUlocationID: int, DOlocationID: int, SR_Flag: string]"
      ]
     },
     "execution_count": 12,
     "metadata": {},
     "output_type": "execute_result"
    }
   ],
   "source": [
    "df_fhv.repartition(6)"
   ]
  },
  {
   "cell_type": "code",
   "execution_count": 13,
   "id": "b90c0451-5d8d-4935-b772-e76e8c82f61f",
   "metadata": {},
   "outputs": [
    {
     "name": "stderr",
     "output_type": "stream",
     "text": [
      "[Stage 2:>                                                          (0 + 1) / 1]\r"
     ]
    },
    {
     "name": "stdout",
     "output_type": "stream",
     "text": [
      "24/03/03 15:10:17 WARN CSVHeaderChecker: Number of column in CSV header is not equal to number of fields in the schema:\n",
      " Header length: 7, schema size: 6\n",
      "CSV file: file:///home/artoriuss9/Homework_5/fhv_tripdata_2019-10.csv.gz\n"
     ]
    },
    {
     "name": "stderr",
     "output_type": "stream",
     "text": [
      "                                                                                \r"
     ]
    }
   ],
   "source": [
    "#df_fhv.write.parquet('/home/artoriuss9/Homework_5/fhvhv/2019/10', mode = 'overwrite')"
   ]
  },
  {
   "cell_type": "code",
   "execution_count": 14,
   "id": "1441a4f8-4b83-41a0-9b69-08a70d06ac21",
   "metadata": {},
   "outputs": [
    {
     "name": "stdout",
     "output_type": "stream",
     "text": [
      "24/03/03 15:10:36 WARN CSVHeaderChecker: Number of column in CSV header is not equal to number of fields in the schema:\n",
      " Header length: 7, schema size: 6\n",
      "CSV file: file:///home/artoriuss9/Homework_5/fhv_tripdata_2019-10.csv.gz\n"
     ]
    },
    {
     "name": "stderr",
     "output_type": "stream",
     "text": [
      "                                                                                \r"
     ]
    }
   ],
   "source": [
    "df_fhv.coalesce(6).write \\\n",
    "    .parquet('/home/artoriuss9/Homework_5/fhvhv/2019/10', mode = 'overwrite')"
   ]
  },
  {
   "cell_type": "code",
   "execution_count": 15,
   "id": "2b622d9d-ad18-4cf3-8653-713c6feb6d1d",
   "metadata": {},
   "outputs": [
    {
     "name": "stdout",
     "output_type": "stream",
     "text": [
      "total 25M\n",
      "-rw-r--r-- 1 artoriuss9 artoriuss9   0 Mar  3 15:10 _SUCCESS\n",
      "-rw-r--r-- 1 artoriuss9 artoriuss9 25M Mar  3 15:10 part-00000-de68e93c-2bab-4d56-b098-f4109f8e59fc-c000.snappy.parquet\n"
     ]
    }
   ],
   "source": [
    "!ls -lh /home/artoriuss9/Homework_5/fhvhv/2019/10"
   ]
  },
  {
   "cell_type": "code",
   "execution_count": 16,
   "id": "52b9eee9-2f52-489f-8269-e7cd00d75a8e",
   "metadata": {},
   "outputs": [],
   "source": [
    "#Q3"
   ]
  },
  {
   "cell_type": "code",
   "execution_count": 17,
   "id": "3bbc32ef-ab9c-4125-85ed-53d7ab1528ed",
   "metadata": {},
   "outputs": [
    {
     "name": "stdout",
     "output_type": "stream",
     "text": [
      "root\n",
      " |-- dispatching_base_num: string (nullable = true)\n",
      " |-- pickup_datetime: timestamp (nullable = true)\n",
      " |-- dropOff_datetime: timestamp (nullable = true)\n",
      " |-- PUlocationID: integer (nullable = true)\n",
      " |-- DOlocationID: integer (nullable = true)\n",
      " |-- SR_Flag: string (nullable = true)\n",
      "\n"
     ]
    }
   ],
   "source": [
    "df_fhv.printSchema()"
   ]
  },
  {
   "cell_type": "code",
   "execution_count": 18,
   "id": "8af18574-19bd-46cd-904a-e0ae5d23573c",
   "metadata": {},
   "outputs": [],
   "source": [
    "from pyspark.sql import functions as F"
   ]
  },
  {
   "cell_type": "code",
   "execution_count": 19,
   "id": "a2fa4000-b9e4-4f54-be0b-804cf34a9e4a",
   "metadata": {},
   "outputs": [
    {
     "name": "stderr",
     "output_type": "stream",
     "text": [
      "                                                                                \r"
     ]
    },
    {
     "data": {
      "text/plain": [
       "62610"
      ]
     },
     "execution_count": 19,
     "metadata": {},
     "output_type": "execute_result"
    }
   ],
   "source": [
    "df_fhv \\\n",
    "    .withColumn('pickup_date', F.to_date(df_fhv.pickup_datetime)) \\\n",
    "    .filter(\"pickup_date = '2019-10-15'\") \\\n",
    "    .count()"
   ]
  },
  {
   "cell_type": "code",
   "execution_count": 20,
   "id": "6bf958ea-7192-4d10-945a-f66fb45f1adf",
   "metadata": {},
   "outputs": [],
   "source": [
    "#Q4"
   ]
  },
  {
   "cell_type": "code",
   "execution_count": 21,
   "id": "edadfa58-f18a-4b13-aac0-1e0363460def",
   "metadata": {},
   "outputs": [
    {
     "name": "stdout",
     "output_type": "stream",
     "text": [
      "24/03/03 15:11:05 WARN CSVHeaderChecker: Number of column in CSV header is not equal to number of fields in the schema:\n",
      " Header length: 7, schema size: 6\n",
      "CSV file: file:///home/artoriuss9/Homework_5/fhv_tripdata_2019-10.csv.gz\n",
      "+--------------------+-------------------+-------------------+------------+------------+-------+\n",
      "|dispatching_base_num|    pickup_datetime|   dropOff_datetime|PUlocationID|DOlocationID|SR_Flag|\n",
      "+--------------------+-------------------+-------------------+------------+------------+-------+\n",
      "|              B00009|2019-10-01 00:23:00|2019-10-01 00:35:00|         264|         264|   null|\n",
      "|              B00013|2019-10-01 00:11:29|2019-10-01 00:13:22|         264|         264|   null|\n",
      "|              B00014|2019-10-01 00:11:43|2019-10-01 00:37:20|         264|         264|   null|\n",
      "|              B00014|2019-10-01 00:56:29|2019-10-01 00:57:47|         264|         264|   null|\n",
      "|              B00014|2019-10-01 00:23:09|2019-10-01 00:28:27|         264|         264|   null|\n",
      "+--------------------+-------------------+-------------------+------------+------------+-------+\n",
      "only showing top 5 rows\n",
      "\n"
     ]
    }
   ],
   "source": [
    "df_fhv.show(5)"
   ]
  },
  {
   "cell_type": "code",
   "execution_count": 22,
   "id": "44fc532b-cef1-4d3e-825b-21f2109dd80e",
   "metadata": {},
   "outputs": [
    {
     "name": "stdout",
     "output_type": "stream",
     "text": [
      "root\n",
      " |-- dispatching_base_num: string (nullable = true)\n",
      " |-- pickup_datetime: timestamp (nullable = true)\n",
      " |-- dropOff_datetime: timestamp (nullable = true)\n",
      " |-- PUlocationID: integer (nullable = true)\n",
      " |-- DOlocationID: integer (nullable = true)\n",
      " |-- SR_Flag: string (nullable = true)\n",
      "\n"
     ]
    }
   ],
   "source": [
    "df_fhv.printSchema()"
   ]
  },
  {
   "cell_type": "code",
   "execution_count": 23,
   "id": "2a0af23c-2442-42a7-bd37-8d3a19e46520",
   "metadata": {},
   "outputs": [
    {
     "data": {
      "text/plain": [
       "['dispatching_base_num',\n",
       " 'pickup_datetime',\n",
       " 'dropOff_datetime',\n",
       " 'PUlocationID',\n",
       " 'DOlocationID',\n",
       " 'SR_Flag']"
      ]
     },
     "execution_count": 23,
     "metadata": {},
     "output_type": "execute_result"
    }
   ],
   "source": [
    "df_fhv.columns"
   ]
  },
  {
   "cell_type": "code",
   "execution_count": 27,
   "id": "bc6a03cf-5623-44c1-a30a-07a75d27b5fd",
   "metadata": {},
   "outputs": [
    {
     "name": "stderr",
     "output_type": "stream",
     "text": [
      "[Stage 8:>                                                          (0 + 1) / 1]\r"
     ]
    },
    {
     "name": "stdout",
     "output_type": "stream",
     "text": [
      "+-----------+------------------+\n",
      "|pickup_date|     max(duration)|\n",
      "+-----------+------------------+\n",
      "| 2019-10-28|          631152.5|\n",
      "| 2019-10-11|          631152.5|\n",
      "| 2019-10-31| 87672.44083333333|\n",
      "| 2019-10-01| 70128.02805555555|\n",
      "| 2019-10-17|            8794.0|\n",
      "| 2019-10-26| 8784.166666666666|\n",
      "| 2019-10-30|1464.5344444444445|\n",
      "| 2019-10-25|1056.8266666666666|\n",
      "| 2019-10-02| 769.2313888888889|\n",
      "| 2019-10-23| 745.6166666666667|\n",
      "+-----------+------------------+\n",
      "\n"
     ]
    },
    {
     "name": "stderr",
     "output_type": "stream",
     "text": [
      "                                                                                \r"
     ]
    }
   ],
   "source": [
    "df_fhv \\\n",
    "    .withColumn('duration', (df_fhv.dropOff_datetime.cast('long') - df_fhv.pickup_datetime.cast('long')) / 3600) \\\n",
    "    .withColumn('pickup_date', F.to_date(df_fhv.pickup_datetime)) \\\n",
    "    .groupBy('pickup_date') \\\n",
    "        .max('duration') \\\n",
    "    .orderBy('max(duration)', ascending=False) \\\n",
    "    .limit(10) \\\n",
    "    .show()"
   ]
  },
  {
   "cell_type": "code",
   "execution_count": 28,
   "id": "ae214ee0-3701-4684-b69c-e8fbaca4e3d1",
   "metadata": {},
   "outputs": [
    {
     "name": "stderr",
     "output_type": "stream",
     "text": [
      "/home/artoriuss9/spark/spark-3.3.2-bin-hadoop3/python/pyspark/sql/dataframe.py:229: FutureWarning: Deprecated in 2.0, use createOrReplaceTempView instead.\n",
      "  warnings.warn(\"Deprecated in 2.0, use createOrReplaceTempView instead.\", FutureWarning)\n"
     ]
    }
   ],
   "source": [
    "df_fhv.registerTempTable('df_fhv_longest_trip')"
   ]
  },
  {
   "cell_type": "code",
   "execution_count": 30,
   "id": "8b33f064-4b6a-43ac-acc6-5a076354f871",
   "metadata": {},
   "outputs": [
    {
     "name": "stderr",
     "output_type": "stream",
     "text": [
      "[Stage 14:>                                                         (0 + 1) / 1]\r"
     ]
    },
    {
     "name": "stdout",
     "output_type": "stream",
     "text": [
      "+-----------+------------------+\n",
      "|pickup_date|          duration|\n",
      "+-----------+------------------+\n",
      "| 2019-10-28|          631152.5|\n",
      "| 2019-10-11|          631152.5|\n",
      "| 2019-10-31| 87672.44083333333|\n",
      "| 2019-10-01| 70128.02805555555|\n",
      "| 2019-10-17|            8794.0|\n",
      "| 2019-10-26| 8784.166666666666|\n",
      "| 2019-10-30|1464.5344444444445|\n",
      "| 2019-10-25|1056.8266666666666|\n",
      "| 2019-10-02| 769.2313888888889|\n",
      "| 2019-10-23| 745.6166666666667|\n",
      "+-----------+------------------+\n",
      "\n"
     ]
    },
    {
     "name": "stderr",
     "output_type": "stream",
     "text": [
      "                                                                                \r"
     ]
    }
   ],
   "source": [
    "spark.sql(\"\"\"\n",
    "SELECT\n",
    "    to_date(pickup_datetime) AS pickup_date,\n",
    "    MAX((CAST(dropOff_datetime AS LONG) - CAST(pickup_datetime AS LONG)) / 3600) AS duration\n",
    "FROM \n",
    "    df_fhv_longest_trip\n",
    "GROUP BY\n",
    "    1\n",
    "ORDER BY\n",
    "    2 DESC\n",
    "LIMIT 10;\n",
    "\"\"\").show()"
   ]
  },
  {
   "cell_type": "code",
   "execution_count": 31,
   "id": "6f796bd9-4d22-4574-a8f4-02954eb6e704",
   "metadata": {},
   "outputs": [],
   "source": [
    "#Q5"
   ]
  },
  {
   "cell_type": "code",
   "execution_count": 32,
   "id": "9910f75c-ce7b-4894-8aac-d15473d97e51",
   "metadata": {},
   "outputs": [
    {
     "data": {
      "text/plain": [
       "4040"
      ]
     },
     "execution_count": 32,
     "metadata": {},
     "output_type": "execute_result"
    }
   ],
   "source": [
    "4040"
   ]
  },
  {
   "cell_type": "code",
   "execution_count": 33,
   "id": "2d4911fb-0b51-4920-ae7b-0a58c9ccf5b5",
   "metadata": {},
   "outputs": [],
   "source": [
    "#Q6"
   ]
  },
  {
   "cell_type": "code",
   "execution_count": 34,
   "id": "19222a0a-0520-42b5-ac90-89eb0b3a1810",
   "metadata": {},
   "outputs": [],
   "source": [
    "df_fhv_parq = spark.read.parquet('/home/artoriuss9/Homework_5/fhvhv/2019/10')"
   ]
  },
  {
   "cell_type": "code",
   "execution_count": 35,
   "id": "bfbf25d6-342d-482d-b3f4-477aced94fe8",
   "metadata": {},
   "outputs": [],
   "source": [
    "df_zones = spark.read.parquet('/home/artoriuss9/notebooks/zones')"
   ]
  },
  {
   "cell_type": "code",
   "execution_count": 36,
   "id": "1bb1d868-2018-41bc-9472-ef70da19aa3e",
   "metadata": {},
   "outputs": [
    {
     "name": "stdout",
     "output_type": "stream",
     "text": [
      "+----------+-------------+--------------------+------------+\n",
      "|LocationID|      Borough|                Zone|service_zone|\n",
      "+----------+-------------+--------------------+------------+\n",
      "|         1|          EWR|      Newark Airport|         EWR|\n",
      "|         2|       Queens|         Jamaica Bay|   Boro Zone|\n",
      "|         3|        Bronx|Allerton/Pelham G...|   Boro Zone|\n",
      "|         4|    Manhattan|       Alphabet City| Yellow Zone|\n",
      "|         5|Staten Island|       Arden Heights|   Boro Zone|\n",
      "|         6|Staten Island|Arrochar/Fort Wad...|   Boro Zone|\n",
      "|         7|       Queens|             Astoria|   Boro Zone|\n",
      "|         8|       Queens|        Astoria Park|   Boro Zone|\n",
      "|         9|       Queens|          Auburndale|   Boro Zone|\n",
      "|        10|       Queens|        Baisley Park|   Boro Zone|\n",
      "|        11|     Brooklyn|          Bath Beach|   Boro Zone|\n",
      "|        12|    Manhattan|        Battery Park| Yellow Zone|\n",
      "|        13|    Manhattan|   Battery Park City| Yellow Zone|\n",
      "|        14|     Brooklyn|           Bay Ridge|   Boro Zone|\n",
      "|        15|       Queens|Bay Terrace/Fort ...|   Boro Zone|\n",
      "|        16|       Queens|             Bayside|   Boro Zone|\n",
      "|        17|     Brooklyn|             Bedford|   Boro Zone|\n",
      "|        18|        Bronx|        Bedford Park|   Boro Zone|\n",
      "|        19|       Queens|           Bellerose|   Boro Zone|\n",
      "|        20|        Bronx|             Belmont|   Boro Zone|\n",
      "+----------+-------------+--------------------+------------+\n",
      "only showing top 20 rows\n",
      "\n"
     ]
    }
   ],
   "source": [
    "df_zones.show()"
   ]
  },
  {
   "cell_type": "code",
   "execution_count": 37,
   "id": "e63c1d10-e40c-4ae0-be27-ba645d4e9046",
   "metadata": {},
   "outputs": [],
   "source": [
    "df_result = df_fhv_parq.join(df_zones, df_fhv_parq.PUlocationID == df_zones.LocationID)"
   ]
  },
  {
   "cell_type": "code",
   "execution_count": 38,
   "id": "bd2d4db2-3b5c-4c3f-a6b1-724fbbfcd30e",
   "metadata": {},
   "outputs": [
    {
     "name": "stdout",
     "output_type": "stream",
     "text": [
      "+--------------------+-------------------+-------------------+------------+------------+-------+----------+-------+---------------+------------+\n",
      "|dispatching_base_num|    pickup_datetime|   dropOff_datetime|PUlocationID|DOlocationID|SR_Flag|LocationID|Borough|           Zone|service_zone|\n",
      "+--------------------+-------------------+-------------------+------------+------------+-------+----------+-------+---------------+------------+\n",
      "|              B00009|2019-10-01 00:23:00|2019-10-01 00:35:00|         264|         264|   null|       264|Unknown|             NV|         N/A|\n",
      "|              B00013|2019-10-01 00:11:29|2019-10-01 00:13:22|         264|         264|   null|       264|Unknown|             NV|         N/A|\n",
      "|              B00014|2019-10-01 00:11:43|2019-10-01 00:37:20|         264|         264|   null|       264|Unknown|             NV|         N/A|\n",
      "|              B00014|2019-10-01 00:56:29|2019-10-01 00:57:47|         264|         264|   null|       264|Unknown|             NV|         N/A|\n",
      "|              B00014|2019-10-01 00:23:09|2019-10-01 00:28:27|         264|         264|   null|       264|Unknown|             NV|         N/A|\n",
      "|     B00021         |2019-10-01 00:00:48|2019-10-01 00:07:12|         129|         129|   null|       129| Queens|Jackson Heights|   Boro Zone|\n",
      "|     B00021         |2019-10-01 00:47:23|2019-10-01 00:53:25|          57|          57|   null|        57| Queens|         Corona|   Boro Zone|\n",
      "|     B00021         |2019-10-01 00:10:06|2019-10-01 00:19:50|         173|         173|   null|       173| Queens|   North Corona|   Boro Zone|\n",
      "|     B00021         |2019-10-01 00:51:37|2019-10-01 01:06:14|         226|         226|   null|       226| Queens|      Sunnyside|   Boro Zone|\n",
      "|     B00021         |2019-10-01 00:28:23|2019-10-01 00:34:33|          56|          56|   null|        56| Queens|         Corona|   Boro Zone|\n",
      "|     B00021         |2019-10-01 00:31:17|2019-10-01 00:51:52|          82|          82|   null|        82| Queens|       Elmhurst|   Boro Zone|\n",
      "|              B00037|2019-10-01 00:07:41|2019-10-01 00:15:23|         264|          71|   null|       264|Unknown|             NV|         N/A|\n",
      "|              B00037|2019-10-01 00:13:38|2019-10-01 00:25:51|         264|          39|   null|       264|Unknown|             NV|         N/A|\n",
      "|              B00037|2019-10-01 00:42:40|2019-10-01 00:53:47|         264|         188|   null|       264|Unknown|             NV|         N/A|\n",
      "|              B00037|2019-10-01 00:58:46|2019-10-01 01:10:11|         264|          91|   null|       264|Unknown|             NV|         N/A|\n",
      "|              B00037|2019-10-01 00:09:49|2019-10-01 00:14:37|         264|          71|   null|       264|Unknown|             NV|         N/A|\n",
      "|              B00037|2019-10-01 00:22:35|2019-10-01 00:36:53|         264|          35|   null|       264|Unknown|             NV|         N/A|\n",
      "|              B00037|2019-10-01 00:54:27|2019-10-01 01:03:37|         264|          61|   null|       264|Unknown|             NV|         N/A|\n",
      "|              B00037|2019-10-01 00:08:12|2019-10-01 00:28:47|         264|         198|   null|       264|Unknown|             NV|         N/A|\n",
      "|              B00053|2019-10-01 00:05:24|2019-10-01 00:53:03|         264|         264|   null|       264|Unknown|             NV|         N/A|\n",
      "+--------------------+-------------------+-------------------+------------+------------+-------+----------+-------+---------------+------------+\n",
      "only showing top 20 rows\n",
      "\n"
     ]
    }
   ],
   "source": [
    "df_result.show()"
   ]
  },
  {
   "cell_type": "code",
   "execution_count": 39,
   "id": "2c8b5801-eb93-4c01-9d31-2ff566a602c6",
   "metadata": {},
   "outputs": [
    {
     "name": "stdout",
     "output_type": "stream",
     "text": [
      "+-------------------+-------------------+------------+-------+----------+-------+---------------+------------+\n",
      "|    pickup_datetime|   dropOff_datetime|DOlocationID|SR_Flag|LocationID|Borough|           Zone|service_zone|\n",
      "+-------------------+-------------------+------------+-------+----------+-------+---------------+------------+\n",
      "|2019-10-01 00:23:00|2019-10-01 00:35:00|         264|   null|       264|Unknown|             NV|         N/A|\n",
      "|2019-10-01 00:11:29|2019-10-01 00:13:22|         264|   null|       264|Unknown|             NV|         N/A|\n",
      "|2019-10-01 00:11:43|2019-10-01 00:37:20|         264|   null|       264|Unknown|             NV|         N/A|\n",
      "|2019-10-01 00:56:29|2019-10-01 00:57:47|         264|   null|       264|Unknown|             NV|         N/A|\n",
      "|2019-10-01 00:23:09|2019-10-01 00:28:27|         264|   null|       264|Unknown|             NV|         N/A|\n",
      "|2019-10-01 00:00:48|2019-10-01 00:07:12|         129|   null|       129| Queens|Jackson Heights|   Boro Zone|\n",
      "|2019-10-01 00:47:23|2019-10-01 00:53:25|          57|   null|        57| Queens|         Corona|   Boro Zone|\n",
      "|2019-10-01 00:10:06|2019-10-01 00:19:50|         173|   null|       173| Queens|   North Corona|   Boro Zone|\n",
      "|2019-10-01 00:51:37|2019-10-01 01:06:14|         226|   null|       226| Queens|      Sunnyside|   Boro Zone|\n",
      "|2019-10-01 00:28:23|2019-10-01 00:34:33|          56|   null|        56| Queens|         Corona|   Boro Zone|\n",
      "|2019-10-01 00:31:17|2019-10-01 00:51:52|          82|   null|        82| Queens|       Elmhurst|   Boro Zone|\n",
      "|2019-10-01 00:07:41|2019-10-01 00:15:23|          71|   null|       264|Unknown|             NV|         N/A|\n",
      "|2019-10-01 00:13:38|2019-10-01 00:25:51|          39|   null|       264|Unknown|             NV|         N/A|\n",
      "|2019-10-01 00:42:40|2019-10-01 00:53:47|         188|   null|       264|Unknown|             NV|         N/A|\n",
      "|2019-10-01 00:58:46|2019-10-01 01:10:11|          91|   null|       264|Unknown|             NV|         N/A|\n",
      "|2019-10-01 00:09:49|2019-10-01 00:14:37|          71|   null|       264|Unknown|             NV|         N/A|\n",
      "|2019-10-01 00:22:35|2019-10-01 00:36:53|          35|   null|       264|Unknown|             NV|         N/A|\n",
      "|2019-10-01 00:54:27|2019-10-01 01:03:37|          61|   null|       264|Unknown|             NV|         N/A|\n",
      "|2019-10-01 00:08:12|2019-10-01 00:28:47|         198|   null|       264|Unknown|             NV|         N/A|\n",
      "|2019-10-01 00:05:24|2019-10-01 00:53:03|         264|   null|       264|Unknown|             NV|         N/A|\n",
      "+-------------------+-------------------+------------+-------+----------+-------+---------------+------------+\n",
      "only showing top 20 rows\n",
      "\n"
     ]
    }
   ],
   "source": [
    "df_result.drop('dispatching_base_num', 'PUlocationID').show()"
   ]
  },
  {
   "cell_type": "code",
   "execution_count": 40,
   "id": "9b8e3845-5273-447d-a00b-4b009fc266f7",
   "metadata": {},
   "outputs": [],
   "source": [
    "df_result.registerTempTable('df_fhv_least')"
   ]
  },
  {
   "cell_type": "code",
   "execution_count": 41,
   "id": "2ded3f12-e0f1-402a-8cf4-21016d05d597",
   "metadata": {},
   "outputs": [
    {
     "name": "stderr",
     "output_type": "stream",
     "text": [
      "[Stage 27:===========================================>              (3 + 1) / 4]\r"
     ]
    },
    {
     "name": "stdout",
     "output_type": "stream",
     "text": [
      "+----------+--------+\n",
      "|LocationID|count(1)|\n",
      "+----------+--------+\n",
      "|         2|       1|\n",
      "|       105|       2|\n",
      "|       111|       5|\n",
      "|        30|       8|\n",
      "|       120|      14|\n",
      "+----------+--------+\n",
      "\n"
     ]
    },
    {
     "name": "stderr",
     "output_type": "stream",
     "text": [
      "                                                                                \r"
     ]
    }
   ],
   "source": [
    "spark.sql(\"\"\"\n",
    "SELECT\n",
    "    LocationID,\n",
    "    COUNT(1)\n",
    "FROM \n",
    "    df_fhv_least\n",
    "GROUP BY\n",
    "    1\n",
    "ORDER BY\n",
    "    2 ASC\n",
    "LIMIT 5;\n",
    "\"\"\").show()"
   ]
  },
  {
   "cell_type": "code",
   "execution_count": 42,
   "id": "5e3c04a4-32d2-4b06-bbd8-1ed1b816412c",
   "metadata": {},
   "outputs": [
    {
     "name": "stdout",
     "output_type": "stream",
     "text": [
      "+----------+-----+\n",
      "|LocationID|count|\n",
      "+----------+-----+\n",
      "|         2|    1|\n",
      "|       105|    2|\n",
      "|       111|    5|\n",
      "|        30|    8|\n",
      "|       120|   14|\n",
      "+----------+-----+\n",
      "\n"
     ]
    }
   ],
   "source": [
    "df_result \\\n",
    "    .groupBy('LocationID') \\\n",
    "        .count() \\\n",
    "    .orderBy('count') \\\n",
    "    .limit(5) \\\n",
    "    .show()"
   ]
  },
  {
   "cell_type": "code",
   "execution_count": null,
   "id": "3781990e-960c-49d9-815e-c91a992ce6aa",
   "metadata": {},
   "outputs": [],
   "source": []
  }
 ],
 "metadata": {
  "kernelspec": {
   "display_name": "Python 3 (ipykernel)",
   "language": "python",
   "name": "python3"
  },
  "language_info": {
   "codemirror_mode": {
    "name": "ipython",
    "version": 3
   },
   "file_extension": ".py",
   "mimetype": "text/x-python",
   "name": "python",
   "nbconvert_exporter": "python",
   "pygments_lexer": "ipython3",
   "version": "3.8.10"
  }
 },
 "nbformat": 4,
 "nbformat_minor": 5
}
